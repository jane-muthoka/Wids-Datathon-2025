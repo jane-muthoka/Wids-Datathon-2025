{
  "metadata": {
    "kernelspec": {
      "language": "python",
      "display_name": "Python 3",
      "name": "python3"
    },
    "language_info": {
      "name": "python",
      "version": "3.10.12",
      "mimetype": "text/x-python",
      "codemirror_mode": {
        "name": "ipython",
        "version": 3
      },
      "pygments_lexer": "ipython3",
      "nbconvert_exporter": "python",
      "file_extension": ".py"
    },
    "kaggle": {
      "accelerator": "none",
      "dataSources": [
        {
          "sourceId": 90566,
          "databundleVersionId": 10712530,
          "sourceType": "competition"
        }
      ],
      "dockerImageVersionId": 30918,
      "isInternetEnabled": true,
      "language": "python",
      "sourceType": "notebook",
      "isGpuEnabled": false
    },
    "colab": {
      "name": "WiDS - Predicting ADHD in Women",
      "provenance": []
    },
    "widgets": {
      "application/vnd.jupyter.widget-state+json": {
        "c4b940b7a607419db67ff63120be9c17": {
          "model_module": "@jupyter-widgets/controls",
          "model_name": "VBoxModel",
          "model_module_version": "1.5.0",
          "state": {
            "_dom_classes": [],
            "_model_module": "@jupyter-widgets/controls",
            "_model_module_version": "1.5.0",
            "_model_name": "VBoxModel",
            "_view_count": null,
            "_view_module": "@jupyter-widgets/controls",
            "_view_module_version": "1.5.0",
            "_view_name": "VBoxView",
            "box_style": "",
            "children": [
              "IPY_MODEL_7c1d74723ec2409db03439dee6946b28"
            ],
            "layout": "IPY_MODEL_2f84a82edb4e42d3a5ad19ca31edb8e1"
          }
        },
        "1028ed218da6493fb0b6a8e40a64e260": {
          "model_module": "@jupyter-widgets/controls",
          "model_name": "HTMLModel",
          "model_module_version": "1.5.0",
          "state": {
            "_dom_classes": [],
            "_model_module": "@jupyter-widgets/controls",
            "_model_module_version": "1.5.0",
            "_model_name": "HTMLModel",
            "_view_count": null,
            "_view_module": "@jupyter-widgets/controls",
            "_view_module_version": "1.5.0",
            "_view_name": "HTMLView",
            "description": "",
            "description_tooltip": null,
            "layout": "IPY_MODEL_aa54e405f7fc4fa9a7bb76faed8ba50c",
            "placeholder": "​",
            "style": "IPY_MODEL_9a3fd1adc6e74a00a9d9c216c6e1ffec",
            "value": "<center> <img\nsrc=https://www.kaggle.com/static/images/site-logo.png\nalt='Kaggle'> <br> Create an API token from <a\nhref=\"https://www.kaggle.com/settings/account\" target=\"_blank\">your Kaggle\nsettings page</a> and paste it below along with your Kaggle username. <br> </center>"
          }
        },
        "eb0f6ae488fd4d0cba0d0a042f5e7f93": {
          "model_module": "@jupyter-widgets/controls",
          "model_name": "TextModel",
          "model_module_version": "1.5.0",
          "state": {
            "_dom_classes": [],
            "_model_module": "@jupyter-widgets/controls",
            "_model_module_version": "1.5.0",
            "_model_name": "TextModel",
            "_view_count": null,
            "_view_module": "@jupyter-widgets/controls",
            "_view_module_version": "1.5.0",
            "_view_name": "TextView",
            "continuous_update": true,
            "description": "Username:",
            "description_tooltip": null,
            "disabled": false,
            "layout": "IPY_MODEL_0af287deb0e142ab8cec8c063d7bf908",
            "placeholder": "​",
            "style": "IPY_MODEL_a5d4541b6f1d4d51b627e9160a1a0426",
            "value": "janemuthoka"
          }
        },
        "313c37f6e62f41b5899bb5f7b0cbca67": {
          "model_module": "@jupyter-widgets/controls",
          "model_name": "PasswordModel",
          "model_module_version": "1.5.0",
          "state": {
            "_dom_classes": [],
            "_model_module": "@jupyter-widgets/controls",
            "_model_module_version": "1.5.0",
            "_model_name": "PasswordModel",
            "_view_count": null,
            "_view_module": "@jupyter-widgets/controls",
            "_view_module_version": "1.5.0",
            "_view_name": "PasswordView",
            "continuous_update": true,
            "description": "Token:",
            "description_tooltip": null,
            "disabled": false,
            "layout": "IPY_MODEL_b97ecc89d2e445feba3c7c187929bf5f",
            "placeholder": "​",
            "style": "IPY_MODEL_f45eb682f0b04b5c9c4ecd8b6bb8bbdb",
            "value": ""
          }
        },
        "e8f35583886a421e8c58a0d46eb0a8e6": {
          "model_module": "@jupyter-widgets/controls",
          "model_name": "ButtonModel",
          "model_module_version": "1.5.0",
          "state": {
            "_dom_classes": [],
            "_model_module": "@jupyter-widgets/controls",
            "_model_module_version": "1.5.0",
            "_model_name": "ButtonModel",
            "_view_count": null,
            "_view_module": "@jupyter-widgets/controls",
            "_view_module_version": "1.5.0",
            "_view_name": "ButtonView",
            "button_style": "",
            "description": "Login",
            "disabled": false,
            "icon": "",
            "layout": "IPY_MODEL_4576b7b0fc1a4a5985e5412518d4608c",
            "style": "IPY_MODEL_b5bcee19dc994a5b90e2e74390c4c4e2",
            "tooltip": ""
          }
        },
        "f50395c62a474162a9a9c53f3ef59fca": {
          "model_module": "@jupyter-widgets/controls",
          "model_name": "HTMLModel",
          "model_module_version": "1.5.0",
          "state": {
            "_dom_classes": [],
            "_model_module": "@jupyter-widgets/controls",
            "_model_module_version": "1.5.0",
            "_model_name": "HTMLModel",
            "_view_count": null,
            "_view_module": "@jupyter-widgets/controls",
            "_view_module_version": "1.5.0",
            "_view_name": "HTMLView",
            "description": "",
            "description_tooltip": null,
            "layout": "IPY_MODEL_43e92b1958c34170a678689b8de120d3",
            "placeholder": "​",
            "style": "IPY_MODEL_b54e9a7d5d9f4efc9adac0c544c47db5",
            "value": "\n<b>Thank You</b></center>"
          }
        },
        "2f84a82edb4e42d3a5ad19ca31edb8e1": {
          "model_module": "@jupyter-widgets/base",
          "model_name": "LayoutModel",
          "model_module_version": "1.2.0",
          "state": {
            "_model_module": "@jupyter-widgets/base",
            "_model_module_version": "1.2.0",
            "_model_name": "LayoutModel",
            "_view_count": null,
            "_view_module": "@jupyter-widgets/base",
            "_view_module_version": "1.2.0",
            "_view_name": "LayoutView",
            "align_content": null,
            "align_items": "center",
            "align_self": null,
            "border": null,
            "bottom": null,
            "display": "flex",
            "flex": null,
            "flex_flow": "column",
            "grid_area": null,
            "grid_auto_columns": null,
            "grid_auto_flow": null,
            "grid_auto_rows": null,
            "grid_column": null,
            "grid_gap": null,
            "grid_row": null,
            "grid_template_areas": null,
            "grid_template_columns": null,
            "grid_template_rows": null,
            "height": null,
            "justify_content": null,
            "justify_items": null,
            "left": null,
            "margin": null,
            "max_height": null,
            "max_width": null,
            "min_height": null,
            "min_width": null,
            "object_fit": null,
            "object_position": null,
            "order": null,
            "overflow": null,
            "overflow_x": null,
            "overflow_y": null,
            "padding": null,
            "right": null,
            "top": null,
            "visibility": null,
            "width": "50%"
          }
        },
        "aa54e405f7fc4fa9a7bb76faed8ba50c": {
          "model_module": "@jupyter-widgets/base",
          "model_name": "LayoutModel",
          "model_module_version": "1.2.0",
          "state": {
            "_model_module": "@jupyter-widgets/base",
            "_model_module_version": "1.2.0",
            "_model_name": "LayoutModel",
            "_view_count": null,
            "_view_module": "@jupyter-widgets/base",
            "_view_module_version": "1.2.0",
            "_view_name": "LayoutView",
            "align_content": null,
            "align_items": null,
            "align_self": null,
            "border": null,
            "bottom": null,
            "display": null,
            "flex": null,
            "flex_flow": null,
            "grid_area": null,
            "grid_auto_columns": null,
            "grid_auto_flow": null,
            "grid_auto_rows": null,
            "grid_column": null,
            "grid_gap": null,
            "grid_row": null,
            "grid_template_areas": null,
            "grid_template_columns": null,
            "grid_template_rows": null,
            "height": null,
            "justify_content": null,
            "justify_items": null,
            "left": null,
            "margin": null,
            "max_height": null,
            "max_width": null,
            "min_height": null,
            "min_width": null,
            "object_fit": null,
            "object_position": null,
            "order": null,
            "overflow": null,
            "overflow_x": null,
            "overflow_y": null,
            "padding": null,
            "right": null,
            "top": null,
            "visibility": null,
            "width": null
          }
        },
        "9a3fd1adc6e74a00a9d9c216c6e1ffec": {
          "model_module": "@jupyter-widgets/controls",
          "model_name": "DescriptionStyleModel",
          "model_module_version": "1.5.0",
          "state": {
            "_model_module": "@jupyter-widgets/controls",
            "_model_module_version": "1.5.0",
            "_model_name": "DescriptionStyleModel",
            "_view_count": null,
            "_view_module": "@jupyter-widgets/base",
            "_view_module_version": "1.2.0",
            "_view_name": "StyleView",
            "description_width": ""
          }
        },
        "0af287deb0e142ab8cec8c063d7bf908": {
          "model_module": "@jupyter-widgets/base",
          "model_name": "LayoutModel",
          "model_module_version": "1.2.0",
          "state": {
            "_model_module": "@jupyter-widgets/base",
            "_model_module_version": "1.2.0",
            "_model_name": "LayoutModel",
            "_view_count": null,
            "_view_module": "@jupyter-widgets/base",
            "_view_module_version": "1.2.0",
            "_view_name": "LayoutView",
            "align_content": null,
            "align_items": null,
            "align_self": null,
            "border": null,
            "bottom": null,
            "display": null,
            "flex": null,
            "flex_flow": null,
            "grid_area": null,
            "grid_auto_columns": null,
            "grid_auto_flow": null,
            "grid_auto_rows": null,
            "grid_column": null,
            "grid_gap": null,
            "grid_row": null,
            "grid_template_areas": null,
            "grid_template_columns": null,
            "grid_template_rows": null,
            "height": null,
            "justify_content": null,
            "justify_items": null,
            "left": null,
            "margin": null,
            "max_height": null,
            "max_width": null,
            "min_height": null,
            "min_width": null,
            "object_fit": null,
            "object_position": null,
            "order": null,
            "overflow": null,
            "overflow_x": null,
            "overflow_y": null,
            "padding": null,
            "right": null,
            "top": null,
            "visibility": null,
            "width": null
          }
        },
        "a5d4541b6f1d4d51b627e9160a1a0426": {
          "model_module": "@jupyter-widgets/controls",
          "model_name": "DescriptionStyleModel",
          "model_module_version": "1.5.0",
          "state": {
            "_model_module": "@jupyter-widgets/controls",
            "_model_module_version": "1.5.0",
            "_model_name": "DescriptionStyleModel",
            "_view_count": null,
            "_view_module": "@jupyter-widgets/base",
            "_view_module_version": "1.2.0",
            "_view_name": "StyleView",
            "description_width": ""
          }
        },
        "b97ecc89d2e445feba3c7c187929bf5f": {
          "model_module": "@jupyter-widgets/base",
          "model_name": "LayoutModel",
          "model_module_version": "1.2.0",
          "state": {
            "_model_module": "@jupyter-widgets/base",
            "_model_module_version": "1.2.0",
            "_model_name": "LayoutModel",
            "_view_count": null,
            "_view_module": "@jupyter-widgets/base",
            "_view_module_version": "1.2.0",
            "_view_name": "LayoutView",
            "align_content": null,
            "align_items": null,
            "align_self": null,
            "border": null,
            "bottom": null,
            "display": null,
            "flex": null,
            "flex_flow": null,
            "grid_area": null,
            "grid_auto_columns": null,
            "grid_auto_flow": null,
            "grid_auto_rows": null,
            "grid_column": null,
            "grid_gap": null,
            "grid_row": null,
            "grid_template_areas": null,
            "grid_template_columns": null,
            "grid_template_rows": null,
            "height": null,
            "justify_content": null,
            "justify_items": null,
            "left": null,
            "margin": null,
            "max_height": null,
            "max_width": null,
            "min_height": null,
            "min_width": null,
            "object_fit": null,
            "object_position": null,
            "order": null,
            "overflow": null,
            "overflow_x": null,
            "overflow_y": null,
            "padding": null,
            "right": null,
            "top": null,
            "visibility": null,
            "width": null
          }
        },
        "f45eb682f0b04b5c9c4ecd8b6bb8bbdb": {
          "model_module": "@jupyter-widgets/controls",
          "model_name": "DescriptionStyleModel",
          "model_module_version": "1.5.0",
          "state": {
            "_model_module": "@jupyter-widgets/controls",
            "_model_module_version": "1.5.0",
            "_model_name": "DescriptionStyleModel",
            "_view_count": null,
            "_view_module": "@jupyter-widgets/base",
            "_view_module_version": "1.2.0",
            "_view_name": "StyleView",
            "description_width": ""
          }
        },
        "4576b7b0fc1a4a5985e5412518d4608c": {
          "model_module": "@jupyter-widgets/base",
          "model_name": "LayoutModel",
          "model_module_version": "1.2.0",
          "state": {
            "_model_module": "@jupyter-widgets/base",
            "_model_module_version": "1.2.0",
            "_model_name": "LayoutModel",
            "_view_count": null,
            "_view_module": "@jupyter-widgets/base",
            "_view_module_version": "1.2.0",
            "_view_name": "LayoutView",
            "align_content": null,
            "align_items": null,
            "align_self": null,
            "border": null,
            "bottom": null,
            "display": null,
            "flex": null,
            "flex_flow": null,
            "grid_area": null,
            "grid_auto_columns": null,
            "grid_auto_flow": null,
            "grid_auto_rows": null,
            "grid_column": null,
            "grid_gap": null,
            "grid_row": null,
            "grid_template_areas": null,
            "grid_template_columns": null,
            "grid_template_rows": null,
            "height": null,
            "justify_content": null,
            "justify_items": null,
            "left": null,
            "margin": null,
            "max_height": null,
            "max_width": null,
            "min_height": null,
            "min_width": null,
            "object_fit": null,
            "object_position": null,
            "order": null,
            "overflow": null,
            "overflow_x": null,
            "overflow_y": null,
            "padding": null,
            "right": null,
            "top": null,
            "visibility": null,
            "width": null
          }
        },
        "b5bcee19dc994a5b90e2e74390c4c4e2": {
          "model_module": "@jupyter-widgets/controls",
          "model_name": "ButtonStyleModel",
          "model_module_version": "1.5.0",
          "state": {
            "_model_module": "@jupyter-widgets/controls",
            "_model_module_version": "1.5.0",
            "_model_name": "ButtonStyleModel",
            "_view_count": null,
            "_view_module": "@jupyter-widgets/base",
            "_view_module_version": "1.2.0",
            "_view_name": "StyleView",
            "button_color": null,
            "font_weight": ""
          }
        },
        "43e92b1958c34170a678689b8de120d3": {
          "model_module": "@jupyter-widgets/base",
          "model_name": "LayoutModel",
          "model_module_version": "1.2.0",
          "state": {
            "_model_module": "@jupyter-widgets/base",
            "_model_module_version": "1.2.0",
            "_model_name": "LayoutModel",
            "_view_count": null,
            "_view_module": "@jupyter-widgets/base",
            "_view_module_version": "1.2.0",
            "_view_name": "LayoutView",
            "align_content": null,
            "align_items": null,
            "align_self": null,
            "border": null,
            "bottom": null,
            "display": null,
            "flex": null,
            "flex_flow": null,
            "grid_area": null,
            "grid_auto_columns": null,
            "grid_auto_flow": null,
            "grid_auto_rows": null,
            "grid_column": null,
            "grid_gap": null,
            "grid_row": null,
            "grid_template_areas": null,
            "grid_template_columns": null,
            "grid_template_rows": null,
            "height": null,
            "justify_content": null,
            "justify_items": null,
            "left": null,
            "margin": null,
            "max_height": null,
            "max_width": null,
            "min_height": null,
            "min_width": null,
            "object_fit": null,
            "object_position": null,
            "order": null,
            "overflow": null,
            "overflow_x": null,
            "overflow_y": null,
            "padding": null,
            "right": null,
            "top": null,
            "visibility": null,
            "width": null
          }
        },
        "b54e9a7d5d9f4efc9adac0c544c47db5": {
          "model_module": "@jupyter-widgets/controls",
          "model_name": "DescriptionStyleModel",
          "model_module_version": "1.5.0",
          "state": {
            "_model_module": "@jupyter-widgets/controls",
            "_model_module_version": "1.5.0",
            "_model_name": "DescriptionStyleModel",
            "_view_count": null,
            "_view_module": "@jupyter-widgets/base",
            "_view_module_version": "1.2.0",
            "_view_name": "StyleView",
            "description_width": ""
          }
        },
        "b163d17e7ecf499895a3b9529bbd5065": {
          "model_module": "@jupyter-widgets/controls",
          "model_name": "LabelModel",
          "model_module_version": "1.5.0",
          "state": {
            "_dom_classes": [],
            "_model_module": "@jupyter-widgets/controls",
            "_model_module_version": "1.5.0",
            "_model_name": "LabelModel",
            "_view_count": null,
            "_view_module": "@jupyter-widgets/controls",
            "_view_module_version": "1.5.0",
            "_view_name": "LabelView",
            "description": "",
            "description_tooltip": null,
            "layout": "IPY_MODEL_dd7eaa58d07544aa90322fdc7a675b8c",
            "placeholder": "​",
            "style": "IPY_MODEL_7ee9edc7c40e428698caf7d3bcc2a8d9",
            "value": "Connecting..."
          }
        },
        "dd7eaa58d07544aa90322fdc7a675b8c": {
          "model_module": "@jupyter-widgets/base",
          "model_name": "LayoutModel",
          "model_module_version": "1.2.0",
          "state": {
            "_model_module": "@jupyter-widgets/base",
            "_model_module_version": "1.2.0",
            "_model_name": "LayoutModel",
            "_view_count": null,
            "_view_module": "@jupyter-widgets/base",
            "_view_module_version": "1.2.0",
            "_view_name": "LayoutView",
            "align_content": null,
            "align_items": null,
            "align_self": null,
            "border": null,
            "bottom": null,
            "display": null,
            "flex": null,
            "flex_flow": null,
            "grid_area": null,
            "grid_auto_columns": null,
            "grid_auto_flow": null,
            "grid_auto_rows": null,
            "grid_column": null,
            "grid_gap": null,
            "grid_row": null,
            "grid_template_areas": null,
            "grid_template_columns": null,
            "grid_template_rows": null,
            "height": null,
            "justify_content": null,
            "justify_items": null,
            "left": null,
            "margin": null,
            "max_height": null,
            "max_width": null,
            "min_height": null,
            "min_width": null,
            "object_fit": null,
            "object_position": null,
            "order": null,
            "overflow": null,
            "overflow_x": null,
            "overflow_y": null,
            "padding": null,
            "right": null,
            "top": null,
            "visibility": null,
            "width": null
          }
        },
        "7ee9edc7c40e428698caf7d3bcc2a8d9": {
          "model_module": "@jupyter-widgets/controls",
          "model_name": "DescriptionStyleModel",
          "model_module_version": "1.5.0",
          "state": {
            "_model_module": "@jupyter-widgets/controls",
            "_model_module_version": "1.5.0",
            "_model_name": "DescriptionStyleModel",
            "_view_count": null,
            "_view_module": "@jupyter-widgets/base",
            "_view_module_version": "1.2.0",
            "_view_name": "StyleView",
            "description_width": ""
          }
        },
        "7c1d74723ec2409db03439dee6946b28": {
          "model_module": "@jupyter-widgets/controls",
          "model_name": "LabelModel",
          "model_module_version": "1.5.0",
          "state": {
            "_dom_classes": [],
            "_model_module": "@jupyter-widgets/controls",
            "_model_module_version": "1.5.0",
            "_model_name": "LabelModel",
            "_view_count": null,
            "_view_module": "@jupyter-widgets/controls",
            "_view_module_version": "1.5.0",
            "_view_name": "LabelView",
            "description": "",
            "description_tooltip": null,
            "layout": "IPY_MODEL_d63504b33b0649d09af81420994f8cd2",
            "placeholder": "​",
            "style": "IPY_MODEL_27524a33c486487d83ba8f58c7c884c1",
            "value": "Kaggle credentials successfully validated."
          }
        },
        "d63504b33b0649d09af81420994f8cd2": {
          "model_module": "@jupyter-widgets/base",
          "model_name": "LayoutModel",
          "model_module_version": "1.2.0",
          "state": {
            "_model_module": "@jupyter-widgets/base",
            "_model_module_version": "1.2.0",
            "_model_name": "LayoutModel",
            "_view_count": null,
            "_view_module": "@jupyter-widgets/base",
            "_view_module_version": "1.2.0",
            "_view_name": "LayoutView",
            "align_content": null,
            "align_items": null,
            "align_self": null,
            "border": null,
            "bottom": null,
            "display": null,
            "flex": null,
            "flex_flow": null,
            "grid_area": null,
            "grid_auto_columns": null,
            "grid_auto_flow": null,
            "grid_auto_rows": null,
            "grid_column": null,
            "grid_gap": null,
            "grid_row": null,
            "grid_template_areas": null,
            "grid_template_columns": null,
            "grid_template_rows": null,
            "height": null,
            "justify_content": null,
            "justify_items": null,
            "left": null,
            "margin": null,
            "max_height": null,
            "max_width": null,
            "min_height": null,
            "min_width": null,
            "object_fit": null,
            "object_position": null,
            "order": null,
            "overflow": null,
            "overflow_x": null,
            "overflow_y": null,
            "padding": null,
            "right": null,
            "top": null,
            "visibility": null,
            "width": null
          }
        },
        "27524a33c486487d83ba8f58c7c884c1": {
          "model_module": "@jupyter-widgets/controls",
          "model_name": "DescriptionStyleModel",
          "model_module_version": "1.5.0",
          "state": {
            "_model_module": "@jupyter-widgets/controls",
            "_model_module_version": "1.5.0",
            "_model_name": "DescriptionStyleModel",
            "_view_count": null,
            "_view_module": "@jupyter-widgets/base",
            "_view_module_version": "1.2.0",
            "_view_name": "StyleView",
            "description_width": ""
          }
        }
      }
    }
  },
  "nbformat_minor": 0,
  "nbformat": 4,
  "cells": [
    {
      "source": [
        "# IMPORTANT: SOME KAGGLE DATA SOURCES ARE PRIVATE\n",
        "# RUN THIS CELL IN ORDER TO IMPORT YOUR KAGGLE DATA SOURCES.\n",
        "import kagglehub\n",
        "kagglehub.login()\n"
      ],
      "metadata": {
<<<<<<< HEAD
=======
        "id": "zwD3b_XxkwEf",
        "outputId": "9b79e6b9-e54a-4cbf-9150-8ed19ee18266",
>>>>>>> 12570ca47922a550004b93750469269a51d14833
        "colab": {
          "base_uri": "https://localhost:8080/",
          "height": 84,
          "referenced_widgets": [
            "c4b940b7a607419db67ff63120be9c17",
            "1028ed218da6493fb0b6a8e40a64e260",
            "eb0f6ae488fd4d0cba0d0a042f5e7f93",
            "313c37f6e62f41b5899bb5f7b0cbca67",
            "e8f35583886a421e8c58a0d46eb0a8e6",
            "f50395c62a474162a9a9c53f3ef59fca",
            "2f84a82edb4e42d3a5ad19ca31edb8e1",
            "aa54e405f7fc4fa9a7bb76faed8ba50c",
            "9a3fd1adc6e74a00a9d9c216c6e1ffec",
            "0af287deb0e142ab8cec8c063d7bf908",
            "a5d4541b6f1d4d51b627e9160a1a0426",
            "b97ecc89d2e445feba3c7c187929bf5f",
            "f45eb682f0b04b5c9c4ecd8b6bb8bbdb",
            "4576b7b0fc1a4a5985e5412518d4608c",
            "b5bcee19dc994a5b90e2e74390c4c4e2",
            "43e92b1958c34170a678689b8de120d3",
            "b54e9a7d5d9f4efc9adac0c544c47db5",
            "b163d17e7ecf499895a3b9529bbd5065",
            "dd7eaa58d07544aa90322fdc7a675b8c",
            "7ee9edc7c40e428698caf7d3bcc2a8d9",
            "7c1d74723ec2409db03439dee6946b28",
            "d63504b33b0649d09af81420994f8cd2",
            "27524a33c486487d83ba8f58c7c884c1"
          ]
<<<<<<< HEAD
        },
        "id": "zwD3b_XxkwEf",
        "outputId": "9b79e6b9-e54a-4cbf-9150-8ed19ee18266"
=======
        }
>>>>>>> 12570ca47922a550004b93750469269a51d14833
      },
      "cell_type": "code",
      "outputs": [
        {
          "output_type": "display_data",
          "data": {
            "text/plain": [
              "VBox(children=(HTML(value='<center> <img\\nsrc=https://www.kaggle.com/static/images/site-logo.png\\nalt=\\'Kaggle…"
            ],
            "application/vnd.jupyter.widget-view+json": {
              "version_major": 2,
              "version_minor": 0,
              "model_id": "c4b940b7a607419db67ff63120be9c17"
            }
          },
          "metadata": {}
        },
        {
          "output_type": "stream",
          "name": "stdout",
          "text": [
            "Kaggle credentials set.\n",
            "Kaggle credentials successfully validated.\n"
          ]
        }
      ],
      "execution_count": 1
    },
    {
      "source": [
        "# IMPORTANT: RUN THIS CELL IN ORDER TO IMPORT YOUR KAGGLE DATA SOURCES,\n",
        "# THEN FEEL FREE TO DELETE THIS CELL.\n",
        "# NOTE: THIS NOTEBOOK ENVIRONMENT DIFFERS FROM KAGGLE'S PYTHON\n",
        "# ENVIRONMENT SO THERE MAY BE MISSING LIBRARIES USED BY YOUR\n",
        "# NOTEBOOK.\n",
        "\n",
        "widsdatathon2025_path = kagglehub.competition_download('widsdatathon2025')\n",
        "\n",
        "print('Data source import complete.')\n"
      ],
      "metadata": {
<<<<<<< HEAD
        "colab": {
          "base_uri": "https://localhost:8080/"
        },
        "id": "o98O1FuxkwEi",
        "outputId": "7094720c-7657-4e75-bc0e-912e7129bbe7"
=======
        "id": "o98O1FuxkwEi",
        "outputId": "7094720c-7657-4e75-bc0e-912e7129bbe7",
        "colab": {
          "base_uri": "https://localhost:8080/"
        }
>>>>>>> 12570ca47922a550004b93750469269a51d14833
      },
      "cell_type": "code",
      "outputs": [
        {
          "output_type": "stream",
          "name": "stdout",
          "text": [
            "Downloading from https://www.kaggle.com/api/v1/competitions/data/download-all/widsdatathon2025...\n"
          ]
        },
        {
          "output_type": "stream",
          "name": "stderr",
          "text": [
            "100%|██████████| 458M/458M [00:16<00:00, 28.5MB/s]"
          ]
        },
        {
          "output_type": "stream",
          "name": "stdout",
          "text": [
            "Extracting files...\n"
          ]
        },
        {
          "output_type": "stream",
          "name": "stderr",
          "text": [
            "\n"
          ]
        },
        {
          "output_type": "stream",
          "name": "stdout",
          "text": [
            "Data source import complete.\n"
          ]
        }
      ],
      "execution_count": 2
    },
    {
      "cell_type": "code",
      "source": [
        "import numpy as np\n",
        "import pandas as pd\n",
        "from sklearn.model_selection import RepeatedStratifiedKFold, StratifiedKFold\n",
        "from sklearn.preprocessing import StandardScaler, RobustScaler, MinMaxScaler\n",
        "from sklearn.ensemble import ExtraTreesClassifier\n",
        "from sklearn.linear_model import LogisticRegression, LogisticRegressionCV, LassoCV\n",
        "from sklearn.metrics import f1_score, roc_auc_score, brier_score_loss\n",
        "from sklearn.experimental import enable_iterative_imputer\n",
        "from sklearn.impute import IterativeImputer\n",
        "import scipy\n",
        "from scipy.stats import kstest, ttest_ind, ks_2samp, mannwhitneyu, mode\n",
        "import matplotlib.pyplot as plt\n",
        "import seaborn as sns\n",
        "from tqdm import tqdm\n",
        "import warnings\n",
        "warnings.filterwarnings('ignore')"
      ],
      "metadata": {
        "_uuid": "8f2839f25d086af736a60e9eeb907d3b93b6e0e5",
        "_cell_guid": "b1076dfc-b9ad-4769-8c92-a6c4dae69d19",
        "trusted": true,
        "execution": {
          "iopub.status.busy": "2025-03-03T09:00:24.223469Z",
          "iopub.execute_input": "2025-03-03T09:00:24.223919Z",
          "iopub.status.idle": "2025-03-03T09:00:24.231031Z",
          "shell.execute_reply.started": "2025-03-03T09:00:24.22387Z",
          "shell.execute_reply": "2025-03-03T09:00:24.229491Z"
        },
        "id": "WE3-2vcOkwEj"
      },
      "outputs": [],
      "execution_count": 4
    },
    {
      "cell_type": "markdown",
      "source": [
        "# Loading the Data"
      ],
      "metadata": {
        "id": "-K7CK3wkkwEk"
      }
    },
    {
      "cell_type": "code",
      "source": [
        "SEED = 42\n",
        "REPEATS = 5\n",
        "FOLDS = 5\n",
        "\n",
        "train_q = pd.read_excel(\"/kaggle/input/widsdatathon2025/TRAIN_OLD/TRAIN_QUANTITATIVE_METADATA.xlsx\")\n",
        "train_c = pd.read_excel(\"/kaggle/input/widsdatathon2025/TRAIN_OLD/TRAIN_CATEGORICAL_METADATA.xlsx\")\n",
        "test_q = pd.read_excel(\"/kaggle/input/widsdatathon2025/TEST/TEST_QUANTITATIVE_METADATA.xlsx\")\n",
        "test_c = pd.read_excel(\"/kaggle/input/widsdatathon2025/TEST/TEST_CATEGORICAL.xlsx\")\n",
        "\n",
        "train_combined = pd.merge(train_q, train_c, on=\"participant_id\", how=\"left\").set_index(\"participant_id\")\n",
        "test_combined = pd.merge(test_q, test_c, on=\"participant_id\", how=\"left\").set_index(\"participant_id\")\n",
        "\n",
        "labels = pd.read_excel(\"/kaggle/input/widsdatathon2025/TRAIN/TRAINING_SOLUTIONS.xlsx\").set_index(\"participant_id\")\n",
        "assert all(train_combined.index == labels.index), \"Label IDs don't match train IDs\""
      ],
      "metadata": {
        "trusted": true,
        "execution": {
          "iopub.status.busy": "2025-03-03T09:00:24.232547Z",
          "iopub.execute_input": "2025-03-03T09:00:24.232953Z",
          "iopub.status.idle": "2025-03-03T09:00:24.96205Z",
          "shell.execute_reply.started": "2025-03-03T09:00:24.232884Z",
          "shell.execute_reply": "2025-03-03T09:00:24.960828Z"
        },
<<<<<<< HEAD
        "colab": {
          "base_uri": "https://localhost:8080/",
          "height": 391
        },
        "id": "aNa4gsoIkwEl",
        "outputId": "d0f27371-3ff2-4ec5-b997-de5827d95d20"
=======
        "id": "aNa4gsoIkwEl",
        "outputId": "d0f27371-3ff2-4ec5-b997-de5827d95d20",
        "colab": {
          "base_uri": "https://localhost:8080/",
          "height": 373
        }
>>>>>>> 12570ca47922a550004b93750469269a51d14833
      },
      "outputs": [
        {
          "output_type": "error",
          "ename": "FileNotFoundError",
          "evalue": "[Errno 2] No such file or directory: '/kaggle/input/widsdatathon2025/TEST/TEST_QUANTITATIVE_METADATA.xlsx'",
          "traceback": [
            "\u001b[0;31m---------------------------------------------------------------------------\u001b[0m",
            "\u001b[0;31mFileNotFoundError\u001b[0m                         Traceback (most recent call last)",
            "\u001b[0;32m<ipython-input-5-0c9e5eb19fdb>\u001b[0m in \u001b[0;36m<cell line: 0>\u001b[0;34m()\u001b[0m\n\u001b[1;32m      5\u001b[0m \u001b[0;31m#train_q = pd.read_excel(\"/kaggle/input/widsdatathon2025/TRAIN_OLD/TRAIN_QUANTITATIVE_METADATA.xlsx\")\u001b[0m\u001b[0;34m\u001b[0m\u001b[0;34m\u001b[0m\u001b[0m\n\u001b[1;32m      6\u001b[0m \u001b[0;31m#train_c = pd.read_excel(\"/kaggle/input/widsdatathon2025/TRAIN_OLD/TRAIN_CATEGORICAL_METADATA.xlsx\")\u001b[0m\u001b[0;34m\u001b[0m\u001b[0;34m\u001b[0m\u001b[0m\n\u001b[0;32m----> 7\u001b[0;31m \u001b[0mtest_q\u001b[0m \u001b[0;34m=\u001b[0m \u001b[0mpd\u001b[0m\u001b[0;34m.\u001b[0m\u001b[0mread_excel\u001b[0m\u001b[0;34m(\u001b[0m\u001b[0;34m\"/kaggle/input/widsdatathon2025/TEST/TEST_QUANTITATIVE_METADATA.xlsx\"\u001b[0m\u001b[0;34m)\u001b[0m\u001b[0;34m\u001b[0m\u001b[0;34m\u001b[0m\u001b[0m\n\u001b[0m\u001b[1;32m      8\u001b[0m \u001b[0mtest_c\u001b[0m \u001b[0;34m=\u001b[0m \u001b[0mpd\u001b[0m\u001b[0;34m.\u001b[0m\u001b[0mread_excel\u001b[0m\u001b[0;34m(\u001b[0m\u001b[0;34m\"/kaggle/input/widsdatathon2025/TEST/TEST_CATEGORICAL.xlsx\"\u001b[0m\u001b[0;34m)\u001b[0m\u001b[0;34m\u001b[0m\u001b[0;34m\u001b[0m\u001b[0m\n\u001b[1;32m      9\u001b[0m \u001b[0;34m\u001b[0m\u001b[0m\n",
            "\u001b[0;32m/usr/local/lib/python3.11/dist-packages/pandas/io/excel/_base.py\u001b[0m in \u001b[0;36mread_excel\u001b[0;34m(io, sheet_name, header, names, index_col, usecols, dtype, engine, converters, true_values, false_values, skiprows, nrows, na_values, keep_default_na, na_filter, verbose, parse_dates, date_parser, date_format, thousands, decimal, comment, skipfooter, storage_options, dtype_backend, engine_kwargs)\u001b[0m\n\u001b[1;32m    493\u001b[0m     \u001b[0;32mif\u001b[0m \u001b[0;32mnot\u001b[0m \u001b[0misinstance\u001b[0m\u001b[0;34m(\u001b[0m\u001b[0mio\u001b[0m\u001b[0;34m,\u001b[0m \u001b[0mExcelFile\u001b[0m\u001b[0;34m)\u001b[0m\u001b[0;34m:\u001b[0m\u001b[0;34m\u001b[0m\u001b[0;34m\u001b[0m\u001b[0m\n\u001b[1;32m    494\u001b[0m         \u001b[0mshould_close\u001b[0m \u001b[0;34m=\u001b[0m \u001b[0;32mTrue\u001b[0m\u001b[0;34m\u001b[0m\u001b[0;34m\u001b[0m\u001b[0m\n\u001b[0;32m--> 495\u001b[0;31m         io = ExcelFile(\n\u001b[0m\u001b[1;32m    496\u001b[0m             \u001b[0mio\u001b[0m\u001b[0;34m,\u001b[0m\u001b[0;34m\u001b[0m\u001b[0;34m\u001b[0m\u001b[0m\n\u001b[1;32m    497\u001b[0m             \u001b[0mstorage_options\u001b[0m\u001b[0;34m=\u001b[0m\u001b[0mstorage_options\u001b[0m\u001b[0;34m,\u001b[0m\u001b[0;34m\u001b[0m\u001b[0;34m\u001b[0m\u001b[0m\n",
            "\u001b[0;32m/usr/local/lib/python3.11/dist-packages/pandas/io/excel/_base.py\u001b[0m in \u001b[0;36m__init__\u001b[0;34m(self, path_or_buffer, engine, storage_options, engine_kwargs)\u001b[0m\n\u001b[1;32m   1548\u001b[0m                 \u001b[0mext\u001b[0m \u001b[0;34m=\u001b[0m \u001b[0;34m\"xls\"\u001b[0m\u001b[0;34m\u001b[0m\u001b[0;34m\u001b[0m\u001b[0m\n\u001b[1;32m   1549\u001b[0m             \u001b[0;32melse\u001b[0m\u001b[0;34m:\u001b[0m\u001b[0;34m\u001b[0m\u001b[0;34m\u001b[0m\u001b[0m\n\u001b[0;32m-> 1550\u001b[0;31m                 ext = inspect_excel_format(\n\u001b[0m\u001b[1;32m   1551\u001b[0m                     \u001b[0mcontent_or_path\u001b[0m\u001b[0;34m=\u001b[0m\u001b[0mpath_or_buffer\u001b[0m\u001b[0;34m,\u001b[0m \u001b[0mstorage_options\u001b[0m\u001b[0;34m=\u001b[0m\u001b[0mstorage_options\u001b[0m\u001b[0;34m\u001b[0m\u001b[0;34m\u001b[0m\u001b[0m\n\u001b[1;32m   1552\u001b[0m                 )\n",
            "\u001b[0;32m/usr/local/lib/python3.11/dist-packages/pandas/io/excel/_base.py\u001b[0m in \u001b[0;36minspect_excel_format\u001b[0;34m(content_or_path, storage_options)\u001b[0m\n\u001b[1;32m   1400\u001b[0m         \u001b[0mcontent_or_path\u001b[0m \u001b[0;34m=\u001b[0m \u001b[0mBytesIO\u001b[0m\u001b[0;34m(\u001b[0m\u001b[0mcontent_or_path\u001b[0m\u001b[0;34m)\u001b[0m\u001b[0;34m\u001b[0m\u001b[0;34m\u001b[0m\u001b[0m\n\u001b[1;32m   1401\u001b[0m \u001b[0;34m\u001b[0m\u001b[0m\n\u001b[0;32m-> 1402\u001b[0;31m     with get_handle(\n\u001b[0m\u001b[1;32m   1403\u001b[0m         \u001b[0mcontent_or_path\u001b[0m\u001b[0;34m,\u001b[0m \u001b[0;34m\"rb\"\u001b[0m\u001b[0;34m,\u001b[0m \u001b[0mstorage_options\u001b[0m\u001b[0;34m=\u001b[0m\u001b[0mstorage_options\u001b[0m\u001b[0;34m,\u001b[0m \u001b[0mis_text\u001b[0m\u001b[0;34m=\u001b[0m\u001b[0;32mFalse\u001b[0m\u001b[0;34m\u001b[0m\u001b[0;34m\u001b[0m\u001b[0m\n\u001b[1;32m   1404\u001b[0m     ) as handle:\n",
            "\u001b[0;32m/usr/local/lib/python3.11/dist-packages/pandas/io/common.py\u001b[0m in \u001b[0;36mget_handle\u001b[0;34m(path_or_buf, mode, encoding, compression, memory_map, is_text, errors, storage_options)\u001b[0m\n\u001b[1;32m    880\u001b[0m         \u001b[0;32melse\u001b[0m\u001b[0;34m:\u001b[0m\u001b[0;34m\u001b[0m\u001b[0;34m\u001b[0m\u001b[0m\n\u001b[1;32m    881\u001b[0m             \u001b[0;31m# Binary mode\u001b[0m\u001b[0;34m\u001b[0m\u001b[0;34m\u001b[0m\u001b[0m\n\u001b[0;32m--> 882\u001b[0;31m             \u001b[0mhandle\u001b[0m \u001b[0;34m=\u001b[0m \u001b[0mopen\u001b[0m\u001b[0;34m(\u001b[0m\u001b[0mhandle\u001b[0m\u001b[0;34m,\u001b[0m \u001b[0mioargs\u001b[0m\u001b[0;34m.\u001b[0m\u001b[0mmode\u001b[0m\u001b[0;34m)\u001b[0m\u001b[0;34m\u001b[0m\u001b[0;34m\u001b[0m\u001b[0m\n\u001b[0m\u001b[1;32m    883\u001b[0m         \u001b[0mhandles\u001b[0m\u001b[0;34m.\u001b[0m\u001b[0mappend\u001b[0m\u001b[0;34m(\u001b[0m\u001b[0mhandle\u001b[0m\u001b[0;34m)\u001b[0m\u001b[0;34m\u001b[0m\u001b[0;34m\u001b[0m\u001b[0m\n\u001b[1;32m    884\u001b[0m \u001b[0;34m\u001b[0m\u001b[0m\n",
            "\u001b[0;31mFileNotFoundError\u001b[0m: [Errno 2] No such file or directory: '/kaggle/input/widsdatathon2025/TEST/TEST_QUANTITATIVE_METADATA.xlsx'"
          ]
        }
      ],
      "execution_count": 5
    },
    {
      "cell_type": "markdown",
      "source": [
        "# Preprocessing"
      ],
      "metadata": {
        "id": "uXaZul6DkwEl"
      }
    },
    {
      "cell_type": "code",
      "source": [
        "# Drop columns\n",
        "drop_cols = [\n",
        "    \"Basic_Demos_Study_Site\", \"MRI_Track_Scan_Location\", \"PreInt_Demos_Fam_Child_Ethnicity\",\n",
        "    \"PreInt_Demos_Fam_Child_Race\", 'Barratt_Barratt_P1_Occ', 'Barratt_Barratt_P2_Occ'\n",
        "]\n",
        "train_combined.drop(drop_cols, axis=1, inplace=True)\n",
        "test_combined.drop(drop_cols, axis=1, inplace=True)\n",
        "\n",
        "# Standardize features\n",
        "scaler = StandardScaler()\n",
        "train_combined = pd.DataFrame(\n",
        "    scaler.fit_transform(train_combined), columns=train_combined.columns, index=train_combined.index\n",
        ")\n",
        "test_combined = pd.DataFrame(\n",
        "    scaler.transform(test_combined), columns=test_combined.columns, index=test_combined.index\n",
        ")\n",
        "\n",
        "# Impute missing values using IterativeImputer with Lasso\n",
        "imputer = IterativeImputer(estimator=LassoCV(random_state=SEED), max_iter=5, random_state=SEED)\n",
        "train_combined[:] = imputer.fit_transform(train_combined)\n",
        "test_combined[:] = imputer.transform(test_combined)\n",
        "\n",
        "# Retrieve targets\n",
        "y_adhd = labels[\"ADHD_Outcome\"]\n",
        "y_sex = labels[\"Sex_F\"]\n",
        "# ADHD&Sex Combinations to stratify on\n",
        "combinations = labels[\"ADHD_Outcome\"].astype(str) + labels[\"Sex_F\"].astype(str)"
      ],
      "metadata": {
        "trusted": true,
        "execution": {
          "iopub.status.busy": "2025-03-03T09:00:24.964545Z",
          "iopub.execute_input": "2025-03-03T09:00:24.96492Z",
          "iopub.status.idle": "2025-03-03T09:00:27.788231Z",
          "shell.execute_reply.started": "2025-03-03T09:00:24.964871Z",
          "shell.execute_reply": "2025-03-03T09:00:27.787078Z"
        },
        "id": "06C7gCRskwEm"
      },
      "outputs": [],
      "execution_count": null
    },
    {
      "cell_type": "markdown",
      "source": [
        "# Model Evaluation"
      ],
      "metadata": {
        "id": "AjA3hjSYkwEm"
      }
    },
    {
      "cell_type": "code",
      "source": [
        "features_sex = [\n",
        "       'EHQ_EHQ_Total', 'ColorVision_CV_Score', 'APQ_P_APQ_P_CP',\n",
        "       'APQ_P_APQ_P_ID', 'APQ_P_APQ_P_INV', 'APQ_P_APQ_P_OPD',\n",
        "       'APQ_P_APQ_P_PM', 'APQ_P_APQ_P_PP', 'SDQ_SDQ_Conduct_Problems',\n",
        "       'SDQ_SDQ_Difficulties_Total', 'SDQ_SDQ_Emotional_Problems',\n",
        "       'SDQ_SDQ_Externalizing', 'SDQ_SDQ_Generating_Impact',\n",
        "       'SDQ_SDQ_Hyperactivity', 'SDQ_SDQ_Internalizing',\n",
        "       'SDQ_SDQ_Peer_Problems', 'SDQ_SDQ_Prosocial', 'MRI_Track_Age_at_Scan',\n",
        "       'Barratt_Barratt_P1_Edu', 'Barratt_Barratt_P2_Edu'\n",
        "]\n",
        "\n",
        "features_adhd = [\n",
        "       'EHQ_EHQ_Total', 'ColorVision_CV_Score', 'APQ_P_APQ_P_CP',\n",
        "       'APQ_P_APQ_P_ID', 'APQ_P_APQ_P_INV', 'APQ_P_APQ_P_OPD',\n",
        "       'APQ_P_APQ_P_PM', 'APQ_P_APQ_P_PP', 'SDQ_SDQ_Conduct_Problems',\n",
        "       'SDQ_SDQ_Difficulties_Total', 'SDQ_SDQ_Emotional_Problems',\n",
        "       'SDQ_SDQ_Externalizing', 'SDQ_SDQ_Generating_Impact',\n",
        "       'SDQ_SDQ_Hyperactivity', 'SDQ_SDQ_Internalizing',\n",
        "       'SDQ_SDQ_Peer_Problems', 'SDQ_SDQ_Prosocial', 'MRI_Track_Age_at_Scan',\n",
        "       'Barratt_Barratt_P1_Edu', 'Barratt_Barratt_P2_Edu', 'sex_proba',\n",
        "       'I_APQ_P_APQ_P_INV', 'I_APQ_P_APQ_P_PP', 'I_SDQ_SDQ_Hyperactivity',\n",
        "       'I_MRI_Track_Age_at_Scan', 'I_SDQ_SDQ_Generating_Impact'\n",
        "]\n",
        "\n",
        "# Features to be interacted with predicted probability of Sex_F = 1\n",
        "interactions = [\n",
        "    \"APQ_P_APQ_P_INV\", \"APQ_P_APQ_P_PP\", \"SDQ_SDQ_Hyperactivity\",\n",
        "    \"MRI_Track_Age_at_Scan\", \"SDQ_SDQ_Generating_Impact\"\n",
        "]"
      ],
      "metadata": {
        "trusted": true,
        "execution": {
          "iopub.status.busy": "2025-03-03T09:00:27.790189Z",
          "iopub.execute_input": "2025-03-03T09:00:27.790604Z",
          "iopub.status.idle": "2025-03-03T09:00:27.797007Z",
          "shell.execute_reply.started": "2025-03-03T09:00:27.790562Z",
          "shell.execute_reply": "2025-03-03T09:00:27.795885Z"
        },
        "id": "fKrgmuhjkwEn"
      },
      "outputs": [],
      "execution_count": null
    },
    {
      "cell_type": "code",
      "source": [
        "def eval_metrics(y_true, y_pred, weights, label=\"None\", thresh=0.5):\n",
        "    \"\"\"Evaluate predictions using Brier Score and F1 Score.\"\"\"\n",
        "    brier = brier_score_loss(y_true, y_pred)\n",
        "    f1 = f1_score(y_true, (y_pred > thresh).astype(int), sample_weight=weights)\n",
        "    print(f\"{label} -> Brier Score: {brier:.4f}, F1: {f1:.4f}\")\n",
        "    return brier, f1\n",
        "\n",
        "# store oof brier and f1\n",
        "scores_sex = []\n",
        "scores_adhd = []\n",
        "\n",
        "# store oof predictions for diagnostics and threshold optimization\n",
        "sex_oof = np.zeros(len(y_sex))\n",
        "adhd_oof = np.zeros(len(y_adhd))\n",
        "\n",
        "# classification thresholds\n",
        "t_sex = 0.3\n",
        "t_adhd = 0.4\n",
        "\n",
        "# Repeated Stratified K-Fold\n",
        "rskf = RepeatedStratifiedKFold(n_splits=FOLDS, n_repeats=REPEATS, random_state=SEED)\n",
        "# skf for LogisticRegressionCV\n",
        "skf = StratifiedKFold(n_splits=FOLDS)\n",
        "\n",
        "params_1 = {\n",
        "    \"penalty\":\"l1\",\n",
        "    \"Cs\": 10,\n",
        "    \"cv\":skf,\n",
        "    \"fit_intercept\":True,\n",
        "    \"scoring\": \"f1\",\n",
        "    \"random_state\": SEED,\n",
        "    \"solver\": \"saga\"\n",
        "}\n",
        "\n",
        "params_2 = {\n",
        "    \"penalty\":\"l1\",\n",
        "    \"Cs\": 10,\n",
        "    \"cv\":skf,\n",
        "    \"fit_intercept\":True,\n",
        "    \"scoring\": \"f1\",\n",
        "    \"random_state\": SEED,\n",
        "    \"solver\": \"saga\"\n",
        "}\n",
        "\n",
        "model_1 = LogisticRegressionCV(**params_1)\n",
        "model_2 = LogisticRegressionCV(**params_2)\n",
        "\n",
        "for fold, (train_idx, val_idx) in enumerate(rskf.split(train_combined, combinations), 1):\n",
        "    print(f\"\\n=== Fold {fold} ===\")\n",
        "\n",
        "    # Split data\n",
        "    X_train, X_val = train_combined.iloc[train_idx], train_combined.iloc[val_idx]\n",
        "    y_train_adhd, y_val_adhd = y_adhd.iloc[train_idx], y_adhd.iloc[val_idx]\n",
        "    y_train_sex, y_val_sex = y_sex.iloc[train_idx], y_sex.iloc[val_idx]\n",
        "    # 2x weight for Sex_F == 1 and ADHD_Outcome == 1 (as mentioned in competition evaluation)\n",
        "    weights_train = np.where(combinations.iloc[train_idx]==\"11\", 2, 1)\n",
        "    weights = np.where(combinations.iloc[val_idx]==\"11\", 2, 1)\n",
        "\n",
        "    # ----------------\n",
        "    # Sex_F prediction\n",
        "    # ----------------\n",
        "    # Model 1\n",
        "    model_1.fit(X_train[features_sex], y_train_sex, sample_weight=weights_train)\n",
        "    sex_train = model_1.predict_proba(X_train[features_sex])[:, 1]\n",
        "    sex_val = model_1.predict_proba(X_val[features_sex])[:, 1]\n",
        "    sex_oof[val_idx] += sex_val / REPEATS\n",
        "\n",
        "    sex_brier, sex_f1 = eval_metrics(y_val_sex, sex_val, weights, \"Sex_F\", thresh=t_sex)\n",
        "    scores_sex.append((sex_brier, sex_f1))\n",
        "\n",
        "    # ----------------\n",
        "    # Outcome_ADHD prediction\n",
        "    # ----------------\n",
        "    # Add predicted proba from previous model\n",
        "    X_train[\"sex_proba\"] = sex_train\n",
        "    X_val[\"sex_proba\"] = sex_val\n",
        "\n",
        "    # adding interactions between predicted sex and other features\n",
        "    for interaction in interactions:\n",
        "        X_train[f\"I_{interaction}\"] = X_train[interaction] * X_train[\"sex_proba\"]\n",
        "        X_val[f\"I_{interaction}\"] = X_val[interaction] * X_val[\"sex_proba\"]\n",
        "\n",
        "    # Logistic Regression with L1 penalty\n",
        "    model_2.fit(X_train[features_adhd], y_train_adhd, sample_weight=weights_train)\n",
        "\n",
        "    adhd_val = model_2.predict_proba(X_val[features_adhd])[:, 1]\n",
        "    adhd_oof[val_idx] += adhd_val / REPEATS\n",
        "\n",
        "    adhd_brier, adhd_f1 = eval_metrics(y_val_adhd, adhd_val, weights, \"Outcome ADHD\", thresh=t_adhd)\n",
        "    scores_adhd.append((adhd_brier, adhd_f1))\n",
        "\n",
        "print(f\"\\n=== CV Results ===\")\n",
        "print(f\"Sex Mean Brier Score: {np.mean([s[0] for s in scores_sex]):.4f}\")\n",
        "print(f\"Sex Mean F1: {np.mean([s[1] for s in scores_sex]):.4f}\")\n",
        "print(f\"ADHD Mean Brier Score: {np.mean([s[0] for s in scores_adhd]):.4f}\")\n",
        "print(f\"ADHD Mean F1: {np.mean([s[1] for s in scores_adhd]):.4f}\")"
      ],
      "metadata": {
        "trusted": true,
        "execution": {
          "iopub.status.busy": "2025-03-03T09:00:27.798465Z",
          "iopub.execute_input": "2025-03-03T09:00:27.798887Z",
          "iopub.status.idle": "2025-03-03T09:01:10.563709Z",
          "shell.execute_reply.started": "2025-03-03T09:00:27.798844Z",
          "shell.execute_reply": "2025-03-03T09:01:10.561721Z"
        },
        "id": "t4votUdFkwEn"
      },
      "outputs": [],
      "execution_count": null
    },
    {
      "cell_type": "markdown",
      "source": [
        "# Threshold Optimization"
      ],
      "metadata": {
        "id": "pbuW-ZCkkwEo"
      }
    },
    {
      "cell_type": "code",
      "source": [
        "weights = ((y_adhd == 1) & (y_sex == 1)) + 1\n",
        "# Compute F1 scores and find the best threshold for sex_oof\n",
        "thresholds = np.linspace(0, 1, 100)\n",
        "sex_scores = []\n",
        "for t in tqdm(thresholds, desc=\"Sex Thresholds\"):\n",
        "    tmp_pred = np.where(sex_oof > t, 1, 0)\n",
        "    tmp_score = f1_score(y_sex, tmp_pred, sample_weight=weights)\n",
        "    sex_scores.append(tmp_score)\n",
        "best_sex_threshold = thresholds[np.argmax(sex_scores)]\n",
        "best_sex_score = max(sex_scores)\n",
        "\n",
        "# Compute F1 scores and find the best threshold for adhd_oof\n",
        "adhd_scores = []\n",
        "for t in tqdm(thresholds, desc=\"ADHD Thresholds\"):\n",
        "    tmp_pred = np.where(adhd_oof > t, 1, 0)\n",
        "    tmp_score = f1_score(y_adhd, tmp_pred, sample_weight=weights)\n",
        "    adhd_scores.append(tmp_score)\n",
        "best_adhd_threshold = thresholds[np.argmax(adhd_scores)]\n",
        "best_adhd_score = max(adhd_scores)\n",
        "\n",
        "# Plot results\n",
        "fig, axs = plt.subplots(2, 2, figsize=(12, 10), constrained_layout=True)\n",
        "\n",
        "# Plot F1 scores for sex_oof\n",
        "axs[0, 0].plot(thresholds, sex_scores, label='F1 Score', color='blue')\n",
        "axs[0, 0].scatter(best_sex_threshold, best_sex_score, color='red', label=f'Best: {best_sex_score:.3f} (Threshold: {best_sex_threshold:.2f})')\n",
        "axs[0, 0].set_title('F1 Scores vs Thresholds (Sex)')\n",
        "axs[0, 0].set_xlabel('Threshold')\n",
        "axs[0, 0].set_ylabel('F1 Score')\n",
        "axs[0, 0].legend()\n",
        "\n",
        "# Plot histogram of sex_oof\n",
        "axs[0, 1].hist(sex_oof, bins=30, color='skyblue', edgecolor='black')\n",
        "axs[0, 1].set_title('Distribution of sex_oof')\n",
        "axs[0, 1].set_xlabel('Probability')\n",
        "axs[0, 1].set_ylabel('Frequency')\n",
        "\n",
        "# Plot F1 scores for adhd_oof\n",
        "axs[1, 0].plot(thresholds, adhd_scores, label='F1 Score', color='orange')\n",
        "axs[1, 0].scatter(best_adhd_threshold, best_adhd_score, color='red', label=f'Best: {best_adhd_score:.3f} (Threshold: {best_adhd_threshold:.2f})')\n",
        "axs[1, 0].set_title('F1 Scores vs Thresholds (ADHD)')\n",
        "axs[1, 0].set_xlabel('Threshold')\n",
        "axs[1, 0].set_ylabel('F1 Score')\n",
        "axs[1, 0].legend()\n",
        "\n",
        "# Plot histogram of adhd_oof\n",
        "axs[1, 1].hist(adhd_oof, bins=30, color='lightgreen', edgecolor='black')\n",
        "axs[1, 1].set_title('Distribution of adhd_oof')\n",
        "axs[1, 1].set_xlabel('Probability')\n",
        "axs[1, 1].set_ylabel('Frequency')\n",
        "\n",
        "plt.suptitle('Threshold Analysis and Distributions', fontsize=16)\n",
        "plt.show()"
      ],
      "metadata": {
        "trusted": true,
        "execution": {
          "iopub.status.busy": "2025-03-03T09:01:10.565089Z",
          "iopub.execute_input": "2025-03-03T09:01:10.565408Z",
          "iopub.status.idle": "2025-03-03T09:01:12.432116Z",
          "shell.execute_reply.started": "2025-03-03T09:01:10.565371Z",
          "shell.execute_reply": "2025-03-03T09:01:12.430857Z"
        },
        "id": "alAbc7aVkwEp"
      },
      "outputs": [],
      "execution_count": null
    },
    {
      "cell_type": "markdown",
      "source": [
        "# Final Model& Predictions"
      ],
      "metadata": {
        "id": "8LOzv5XzkwEq"
      }
    },
    {
      "cell_type": "code",
      "source": [
        "# Final models and predictions\n",
        "model_1.fit(train_combined[features_sex], y_sex, sample_weight=weights)\n",
        "\n",
        "sex_proba_train = model_1.predict_proba(train_combined[features_sex])[:,1]\n",
        "sex_proba_test = model_1.predict_proba(test_combined[features_sex])[:,1]\n",
        "\n",
        "train_combined[\"sex_proba\"] = sex_proba_train\n",
        "test_combined[\"sex_proba\"] = sex_proba_test\n",
        "\n",
        "for interaction in interactions:\n",
        "    train_combined[f\"I_{interaction}\"] = train_combined[\"sex_proba\"] * train_combined[interaction]\n",
        "    test_combined[f\"I_{interaction}\"] = test_combined[\"sex_proba\"] * test_combined[interaction]\n",
        "\n",
        "model_2.fit(train_combined[features_adhd], y_adhd, sample_weight=weights)\n",
        "\n",
        "adhd_proba_test = model_2.predict_proba(test_combined[features_adhd])[:,1]\n",
        "# Show most important features for model 2\n",
        "coeffs_2 = pd.DataFrame({\"feature\": features_adhd, \"coeff\": model_2.coef_[0]})\n",
        "coeffs_2.sort_values(by=\"coeff\", key=abs, ascending=False)[:15]"
      ],
      "metadata": {
        "trusted": true,
        "execution": {
          "iopub.status.busy": "2025-03-03T09:01:12.433224Z",
          "iopub.execute_input": "2025-03-03T09:01:12.433504Z",
          "iopub.status.idle": "2025-03-03T09:01:14.48232Z",
          "shell.execute_reply.started": "2025-03-03T09:01:12.433479Z",
          "shell.execute_reply": "2025-03-03T09:01:14.480981Z"
        },
        "id": "SA5-O22CkwEq"
      },
      "outputs": [],
      "execution_count": null
    },
    {
      "cell_type": "markdown",
      "source": [
        "# Sanity Checks& Submission"
      ],
      "metadata": {
        "id": "bW7DFtGQkwEq"
      }
    },
    {
      "cell_type": "code",
      "source": [
        "# Plotting distributions with improved visuals\n",
        "fig, ax = plt.subplots(1, 2, figsize=(12, 5))\n",
        "\n",
        "# Plot for Sex predictions\n",
        "ax[0].hist(sex_proba_test, bins=10, alpha=0.5, color='blue', label='Sex Test')\n",
        "ax[0].hist(sex_oof, bins=10, alpha=0.5, color='orange', label='Sex OOF')\n",
        "ax[0].set_title('Sex Predictions Distribution')\n",
        "ax[0].set_xlabel('Predicted Probability')\n",
        "ax[0].set_ylabel('Frequency')\n",
        "ax[0].legend()\n",
        "\n",
        "# Plot for ADHD predictions\n",
        "ax[1].hist(adhd_proba_test, bins=10, alpha=0.5, color='green', label='ADHD Test')\n",
        "ax[1].hist(adhd_oof, bins=10, alpha=0.5, color='red', label='ADHD OOF')\n",
        "ax[1].set_title('ADHD Predictions Distribution')\n",
        "ax[1].set_xlabel('Predicted Probability')\n",
        "ax[1].set_ylabel('Frequency')\n",
        "ax[1].legend()\n",
        "\n",
        "plt.tight_layout()\n",
        "plt.show()\n",
        "\n",
        "# Statistical test to compare distributions\n",
        "sex_test_result = ks_2samp(sex_proba_test, sex_oof)\n",
        "adhd_test_result = ks_2samp(adhd_proba_test, adhd_oof)\n",
        "sex_mwu_result = mannwhitneyu(sex_proba_test, sex_oof)\n",
        "adhd_mwu_result = mannwhitneyu(adhd_proba_test, adhd_oof)\n",
        "\n",
        "print(\"Kolmogorov-Smirnov Test and MannWhitneyU Results:\")\n",
        "print(f\"Sex KS Test vs. OOF: Statistic={sex_test_result.statistic:.4f}, p-value={sex_test_result.pvalue:.4f}\")\n",
        "print(f\"Sex MWU Test vs. OOF: Statistic={sex_mwu_result.statistic:.4f}, p-value={sex_mwu_result.pvalue:.4f}\")\n",
        "print(f\"ADHD KS Test vs. OOF: Statistic={adhd_test_result.statistic:.4f}, p-value={adhd_test_result.pvalue:.4f}\")\n",
        "print(f\"ADHD MWU Test vs. OOF: Statistic={adhd_mwu_result.statistic:.4f}, p-value={adhd_mwu_result.pvalue:.4f}\")\n",
        "\n",
        "# Submission\n",
        "submission = pd.read_excel(\"/kaggle/input/widsdatathon2025/SAMPLE_SUBMISSION.xlsx\")\n",
        "submission[\"ADHD_Outcome\"] = np.where(adhd_proba_test > best_adhd_threshold, 1, 0)\n",
        "submission[\"Sex_F\"] = np.where(sex_proba_test > best_sex_threshold, 1, 0)\n",
        "# Compare share of predicted labels at thresholds between OOF and Test\n",
        "print(f\"Share ADHD OOF: {np.mean(np.where(adhd_oof > best_adhd_threshold, 1, 0)):.4f} - Share ADHD Test: {submission.ADHD_Outcome.mean():.4f}\")\n",
        "print(f\"Share Sex_F OOF: {np.mean(np.where(sex_oof > best_sex_threshold, 1, 0)):.4f} - Share Sex_F Test: {submission.Sex_F.mean():.4f}\")"
      ],
      "metadata": {
        "trusted": true,
        "execution": {
          "iopub.status.busy": "2025-03-03T09:01:14.483553Z",
          "iopub.execute_input": "2025-03-03T09:01:14.484016Z",
          "iopub.status.idle": "2025-03-03T09:01:15.101846Z",
          "shell.execute_reply.started": "2025-03-03T09:01:14.483978Z",
          "shell.execute_reply": "2025-03-03T09:01:15.100701Z"
        },
        "id": "fET2wgXxkwEr"
      },
      "outputs": [],
      "execution_count": null
    },
    {
      "cell_type": "code",
      "source": [
        "submission.to_csv(\"submission.csv\", index=False)"
      ],
      "metadata": {
        "trusted": true,
        "execution": {
          "iopub.status.busy": "2025-03-03T09:01:15.104409Z",
          "iopub.execute_input": "2025-03-03T09:01:15.10475Z",
          "iopub.status.idle": "2025-03-03T09:01:15.112622Z",
          "shell.execute_reply.started": "2025-03-03T09:01:15.104716Z",
          "shell.execute_reply": "2025-03-03T09:01:15.111246Z"
        },
        "id": "8CSsEdwpkwEr"
      },
      "outputs": [],
      "execution_count": null
    },
    {
      "cell_type": "code",
      "source": [],
      "metadata": {
        "trusted": true,
        "id": "DeOUxTKukwEr"
      },
      "outputs": [],
      "execution_count": null
    }
  ]
}